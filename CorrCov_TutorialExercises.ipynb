{
 "cells": [
  {
   "cell_type": "markdown",
   "id": "367c81bd",
   "metadata": {},
   "source": [
    "# Tutorial Exercises\n",
    "\n",
    "## Hotel stay data\n",
    "\n",
    "In this example we will use data from 12,843 guests who stayed at a chain of luxury hotels over the past 5 years.\n",
    "The data were collected by the Clarendon Luxury Hotel chain, and stored in their customer database.\n",
    "\n",
    "These exercises will review some of the skills learned over the last three weeks. They will also prepare you for the first hand-in exercise: to produce a report for the CEO of the company, describing the main factors affecting how much guests spent, and the length of their hotel stay."
   ]
  },
  {
   "cell_type": "markdown",
   "id": "e0fe230b",
   "metadata": {},
   "source": [
    "### Set up Python libraries\n",
    "\n",
    "As usual, run the code cell below to import the relevant Python libraries"
   ]
  },
  {
   "cell_type": "code",
   "execution_count": 1,
   "id": "9995d24d",
   "metadata": {},
   "outputs": [],
   "source": [
    "# Set-up Python libraries - you need to run this but you don't need to change it\n",
    "import numpy as np\n",
    "import matplotlib.pyplot as plt\n",
    "import scipy.stats as stats\n",
    "import pandas \n",
    "import seaborn as sns\n",
    "sns.set_theme()"
   ]
  },
  {
   "cell_type": "markdown",
   "id": "39ecfde8",
   "metadata": {},
   "source": [
    "### Load and inspect the data"
   ]
  },
  {
   "cell_type": "code",
   "execution_count": 2,
   "id": "331aafe1",
   "metadata": {},
   "outputs": [
    {
     "data": {
      "text/html": [
       "<div>\n",
       "<style scoped>\n",
       "    .dataframe tbody tr th:only-of-type {\n",
       "        vertical-align: middle;\n",
       "    }\n",
       "\n",
       "    .dataframe tbody tr th {\n",
       "        vertical-align: top;\n",
       "    }\n",
       "\n",
       "    .dataframe thead th {\n",
       "        text-align: right;\n",
       "    }\n",
       "</style>\n",
       "<table border=\"1\" class=\"dataframe\">\n",
       "  <thead>\n",
       "    <tr style=\"text-align: right;\">\n",
       "      <th></th>\n",
       "      <th>CHARGES</th>\n",
       "      <th>LOS</th>\n",
       "      <th>AGE</th>\n",
       "      <th>SEX</th>\n",
       "      <th>DISCOUNTCODE</th>\n",
       "      <th>SPAVOUCHER</th>\n",
       "    </tr>\n",
       "  </thead>\n",
       "  <tbody>\n",
       "    <tr>\n",
       "      <th>0</th>\n",
       "      <td>4752.00</td>\n",
       "      <td>10</td>\n",
       "      <td>79.0</td>\n",
       "      <td>F</td>\n",
       "      <td>122.0</td>\n",
       "      <td>0.0</td>\n",
       "    </tr>\n",
       "    <tr>\n",
       "      <th>1</th>\n",
       "      <td>3941.00</td>\n",
       "      <td>6</td>\n",
       "      <td>34.0</td>\n",
       "      <td>F</td>\n",
       "      <td>122.0</td>\n",
       "      <td>0.0</td>\n",
       "    </tr>\n",
       "    <tr>\n",
       "      <th>2</th>\n",
       "      <td>3657.00</td>\n",
       "      <td>5</td>\n",
       "      <td>76.0</td>\n",
       "      <td>F</td>\n",
       "      <td>122.0</td>\n",
       "      <td>0.0</td>\n",
       "    </tr>\n",
       "    <tr>\n",
       "      <th>3</th>\n",
       "      <td>1481.00</td>\n",
       "      <td>2</td>\n",
       "      <td>80.0</td>\n",
       "      <td>F</td>\n",
       "      <td>122.0</td>\n",
       "      <td>0.0</td>\n",
       "    </tr>\n",
       "    <tr>\n",
       "      <th>4</th>\n",
       "      <td>1681.00</td>\n",
       "      <td>1</td>\n",
       "      <td>55.0</td>\n",
       "      <td>M</td>\n",
       "      <td>122.0</td>\n",
       "      <td>0.0</td>\n",
       "    </tr>\n",
       "    <tr>\n",
       "      <th>...</th>\n",
       "      <td>...</td>\n",
       "      <td>...</td>\n",
       "      <td>...</td>\n",
       "      <td>...</td>\n",
       "      <td>...</td>\n",
       "      <td>...</td>\n",
       "    </tr>\n",
       "    <tr>\n",
       "      <th>12839</th>\n",
       "      <td>22603.57</td>\n",
       "      <td>14</td>\n",
       "      <td>79.0</td>\n",
       "      <td>F</td>\n",
       "      <td>121.0</td>\n",
       "      <td>0.0</td>\n",
       "    </tr>\n",
       "    <tr>\n",
       "      <th>12840</th>\n",
       "      <td>NaN</td>\n",
       "      <td>7</td>\n",
       "      <td>91.0</td>\n",
       "      <td>F</td>\n",
       "      <td>121.0</td>\n",
       "      <td>0.0</td>\n",
       "    </tr>\n",
       "    <tr>\n",
       "      <th>12841</th>\n",
       "      <td>14359.14</td>\n",
       "      <td>9</td>\n",
       "      <td>79.0</td>\n",
       "      <td>F</td>\n",
       "      <td>121.0</td>\n",
       "      <td>0.0</td>\n",
       "    </tr>\n",
       "    <tr>\n",
       "      <th>12842</th>\n",
       "      <td>12986.00</td>\n",
       "      <td>5</td>\n",
       "      <td>70.0</td>\n",
       "      <td>M</td>\n",
       "      <td>121.0</td>\n",
       "      <td>0.0</td>\n",
       "    </tr>\n",
       "    <tr>\n",
       "      <th>12843</th>\n",
       "      <td>NaN</td>\n",
       "      <td>1</td>\n",
       "      <td>81.0</td>\n",
       "      <td>M</td>\n",
       "      <td>123.0</td>\n",
       "      <td>1.0</td>\n",
       "    </tr>\n",
       "  </tbody>\n",
       "</table>\n",
       "<p>12844 rows × 6 columns</p>\n",
       "</div>"
      ],
      "text/plain": [
       "        CHARGES  LOS   AGE SEX  DISCOUNTCODE  SPAVOUCHER\n",
       "0       4752.00   10  79.0   F         122.0         0.0\n",
       "1       3941.00    6  34.0   F         122.0         0.0\n",
       "2       3657.00    5  76.0   F         122.0         0.0\n",
       "3       1481.00    2  80.0   F         122.0         0.0\n",
       "4       1681.00    1  55.0   M         122.0         0.0\n",
       "...         ...  ...   ...  ..           ...         ...\n",
       "12839  22603.57   14  79.0   F         121.0         0.0\n",
       "12840       NaN    7  91.0   F         121.0         0.0\n",
       "12841  14359.14    9  79.0   F         121.0         0.0\n",
       "12842  12986.00    5  70.0   M         121.0         0.0\n",
       "12843       NaN    1  81.0   M         123.0         1.0\n",
       "\n",
       "[12844 rows x 6 columns]"
      ]
     },
     "metadata": {},
     "output_type": "display_data"
    }
   ],
   "source": [
    "hotelStays=pandas.read_csv('/Users/lhunt/Desktop/hotelStays.csv')\n",
    "display(hotelStays)"
   ]
  },
  {
   "cell_type": "markdown",
   "id": "868ad51b",
   "metadata": {},
   "source": [
    "What data do we have for each patient?\n",
    "<ul>\n",
    "    <li> CHARGES is the cost in pounds of the guest's stay at the hotel (note that this varies considerable due to different room types and time of year, which are not data that are included in this databased)\n",
    "    <li> LOS is Length of Stay (at the hotel) in nights\n",
    "    <li> SPAVOUCHER is coded as 1 if the person used a voucher to access the hotel spa, 0 if they did not\n",
    "    <li> DISCOUNTCODE is a discount code from the company's booking system\n",
    "</ul>\n",
    "\n",
    "### Evaluate missing and bad data values\n",
    "\n",
    "How many missing values (NaNs) are there for each variale (column) in the dataset?"
   ]
  },
  {
   "cell_type": "code",
   "execution_count": 1,
   "id": "bc2c8fb4",
   "metadata": {},
   "outputs": [],
   "source": [
    "# your code here!"
   ]
  },
  {
   "cell_type": "markdown",
   "id": "342f2dae",
   "metadata": {},
   "source": [
    "Can you find any data points that look like outliers or misrecorded values?\n",
    "\n",
    "You could try the following techniques:\n",
    "<ul>\n",
    "    <li> plot the data to see if outliers are obvious\n",
    "    <li> sort the data using <tt>pandas.df.sort_values()</tt> to bring extreme values to the top (or bottom) of the dataframe, then display the sorted dataframe\n",
    "    <li> obtain descriptive statistics and check the max an min value for each column of the dataframe\n",
    "</ul>\n",
    "\n",
    "For hotel guests with outlier values, you should decide whether to:\n",
    "\n",
    "<ol>\n",
    "    <li>replace individual datapoints with NaNs\n",
    "    <li>replace the entire patient record with NaNs\n",
    "    <li>remove the entire record from the dataset with <tt>pandas.df.drop()</tt>\n",
    "    <li>retain the data as is, at least for now\n",
    "</ol>\n",
    "Think how you would justify your choice to a reader.\n"
   ]
  },
  {
   "cell_type": "code",
   "execution_count": 2,
   "id": "e688238e",
   "metadata": {},
   "outputs": [],
   "source": [
    "# your code here!"
   ]
  },
  {
   "cell_type": "markdown",
   "id": "28027ec6",
   "metadata": {},
   "source": [
    "### Cost of hotel stay\n",
    "\n",
    "The column <tt>CHARGES</tt> tells us how much the hotel stay cost in £.\n",
    "\n",
    "Plot the distribution of charges using a suitable plot type. "
   ]
  },
  {
   "cell_type": "code",
   "execution_count": 3,
   "id": "895b4a0e",
   "metadata": {},
   "outputs": [],
   "source": [
    "# Your code here"
   ]
  },
  {
   "cell_type": "markdown",
   "id": "4a6b4b81",
   "metadata": {},
   "source": [
    "Describe the distribution of hotel stay costs in words, including some descriptive statistics. \n",
    "\n",
    "Part of the task here is to decide which descriptives are useful to give the reader a summary fo the distribution of charges. \n",
    "\n",
    "Try to make a choice yourself, and then discuss with your tutor if unsure."
   ]
  },
  {
   "cell_type": "code",
   "execution_count": 4,
   "id": "76cab630",
   "metadata": {},
   "outputs": [],
   "source": [
    "# Your code here"
   ]
  },
  {
   "cell_type": "markdown",
   "id": "44ea0d6f",
   "metadata": {},
   "source": [
    "### Length of hotel stay\n",
    "\n",
    "The column <tt>LOS</tt> tells us how long each patient stayed in the hotel.\n",
    "\n",
    "Plot the distribution of length of stay using a suitable plot type. "
   ]
  },
  {
   "cell_type": "code",
   "execution_count": 5,
   "id": "1623b0e4",
   "metadata": {},
   "outputs": [],
   "source": [
    "# Your code here"
   ]
  },
  {
   "cell_type": "markdown",
   "id": "dd9176b6",
   "metadata": {},
   "source": [
    "Hm, there is an interesting feature in that data distribution - what is it?\n",
    "\n",
    "Can you think what the origin of this feature is (what caused it?)\n",
    "\n",
    "HINT: it may help to plot data separately for the different values of one of the categorical variables, using the argument <tt>hue</tt> in the plotting function. You will get a clearer result with a KDE plot than a histogram (try both and see why)."
   ]
  },
  {
   "cell_type": "code",
   "execution_count": 6,
   "id": "abd81d2c",
   "metadata": {},
   "outputs": [],
   "source": [
    "# Your code here"
   ]
  },
  {
   "cell_type": "markdown",
   "id": "750b2d57",
   "metadata": {},
   "source": [
    ".......Your comment here......... double click to edit this text box!"
   ]
  },
  {
   "cell_type": "markdown",
   "id": "b15b34b5",
   "metadata": {},
   "source": [
    "### Association between cost and length of stay\n",
    "\n",
    "Probably the biggest factor affecting the cost of the stay is the length of the stay.\n",
    "\n",
    "Produce an appropriate plot and descriptive statisitics to demonstrate the relationship between cost and length of stay."
   ]
  },
  {
   "cell_type": "code",
   "execution_count": 7,
   "id": "867acf66",
   "metadata": {},
   "outputs": [],
   "source": [
    "# Your code here"
   ]
  },
  {
   "cell_type": "markdown",
   "id": "c3fbc442",
   "metadata": {},
   "source": [
    ".......Your comment here......... double click to edit this text box!"
   ]
  },
  {
   "cell_type": "markdown",
   "id": "a888d2e6",
   "metadata": {},
   "source": [
    "You may remember from the exercises on covariance that change in $y$ for one unit in $x$ is given by the regression slope:\n",
    "\n",
    "$$ b = \\frac{s_{xy}}{s^2_x} $$\n",
    "\n",
    "Apply the equation in Python to find out how much, on average, one extra night at the hotel costs."
   ]
  },
  {
   "cell_type": "code",
   "execution_count": 8,
   "id": "25ca932c",
   "metadata": {},
   "outputs": [],
   "source": [
    "# Your code here"
   ]
  },
  {
   "cell_type": "markdown",
   "id": "e6269ab5",
   "metadata": {},
   "source": [
    "## Association between length of stay and age\n",
    "\n",
    "Older people tend to stay longer at the hotel - produce an appropriate plot and descriptive statisitics to demonstrate the relationship between cost and length of stay."
   ]
  },
  {
   "cell_type": "code",
   "execution_count": 9,
   "id": "1ef9834c",
   "metadata": {},
   "outputs": [],
   "source": [
    "# Your code here"
   ]
  },
  {
   "cell_type": "markdown",
   "id": "0aaec457",
   "metadata": {},
   "source": [
    ".......Your comment here......... double click to edit this text box!"
   ]
  },
  {
   "cell_type": "markdown",
   "id": "36d2c553",
   "metadata": {},
   "source": [
    "### Sex difference in spa usage\n",
    "\n",
    "A greater proportion of the women used the spa than men.\n",
    "\n",
    "Illustrate this assocation between sex and spa usage using <tt>sns.countplot()</tt>"
   ]
  },
  {
   "cell_type": "code",
   "execution_count": 10,
   "id": "2d120ad0",
   "metadata": {},
   "outputs": [],
   "source": [
    "# Your code here"
   ]
  },
  {
   "cell_type": "markdown",
   "id": "2449c07b",
   "metadata": {},
   "source": [
    "### Age difference between sexes\n",
    "\n",
    "Could the higher use of the spa by women be explained by their age?\n",
    "\n",
    "Explore with appropriate plots and summarize your observations in words including descriptive statstics."
   ]
  },
  {
   "cell_type": "code",
   "execution_count": 11,
   "id": "3e4f82d7",
   "metadata": {},
   "outputs": [],
   "source": [
    "# Your code here"
   ]
  },
  {
   "cell_type": "markdown",
   "id": "00725783",
   "metadata": {},
   "source": [
    ".......Your comment here......... double click to edit this text box!"
   ]
  },
  {
   "cell_type": "markdown",
   "id": "231de82b",
   "metadata": {},
   "source": [
    "### What is DISCOUNTCODE?\n",
    "\n",
    "The column DISCOUNTCODE is a discount code, which tells you something about what discount offer the guest had access to when they made their booking.\n",
    "\n",
    "I do not know what the different codes mean, but you could try to find out by plotting some of the other variables broken down by DISCOUNT (eg using the <tt>hue</tt> property of <tt>sns</tt> plotting functions</tt>). You should at least be able to work out what code 123 means."
   ]
  },
  {
   "cell_type": "code",
   "execution_count": 12,
   "id": "0a10b224",
   "metadata": {},
   "outputs": [],
   "source": [
    "# Your code here"
   ]
  },
  {
   "cell_type": "markdown",
   "id": "cd5b159e",
   "metadata": {},
   "source": [
    ".......Your comment here......... double click to edit this text box!"
   ]
  },
  {
   "cell_type": "code",
   "execution_count": null,
   "id": "2c58a9f5",
   "metadata": {},
   "outputs": [],
   "source": []
  }
 ],
 "metadata": {
  "kernelspec": {
   "display_name": "Python 3 (Spyder)",
   "language": "python3",
   "name": "python3"
  },
  "language_info": {
   "codemirror_mode": {
    "name": "ipython",
    "version": 3
   },
   "file_extension": ".py",
   "mimetype": "text/x-python",
   "name": "python",
   "nbconvert_exporter": "python",
   "pygments_lexer": "ipython3",
   "version": "3.9.12"
  }
 },
 "nbformat": 4,
 "nbformat_minor": 5
}
