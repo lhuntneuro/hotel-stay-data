{
 "cells": [
  {
   "cell_type": "markdown",
   "id": "16e24c27",
   "metadata": {},
   "source": [
    "# Hand-in Assignment\n",
    "\n",
    "You are analysing a dataset that contains lengths of stay at Clarendon Luxury Hotels, a hotel chain that specialises in countryside hotels with a range of onsite activities. \n",
    "\n",
    "You task is to produce a report for the CEO of the hotel chain, based on a database that was collected of stays over the past five years.\n",
    "\n",
    "The CEO wants to know what factors affect the how much a hotel guest will typically spend to stay at the hotel (note that these prices will also vary considerably depending upon the room type and time of year, which are not contained within the databased).\n",
    "\n",
    "Your report will summarise the distribution of costs and the factors that affect the cost of a hotel stay, using appropriate plots and descriptive statistics. \n",
    "\n",
    "This report should build on the Tutorial Exercises for session 3, BUT an important part of the task is to prepare a report (as if for presentation to a client, the CEO), NOT just paste the tutorial exercises.\n",
    "\n",
    "## Instructions for completing this report\n",
    "\n",
    "You will produce your report in the form of a a Jupyter notebook (you could modify this one or create a new one).\n",
    "\n",
    "The notebook will contain text (to be read by the CEO who is not familiar with Python code) and code blocks (showing transparently how you processed the data, in case someone in the Clarendon Hotel Data Science Team wants to check or elaborate on the analysis).\n",
    "\n",
    "You can add as many new blocks as you need to a notebook by clicking the + button in the toolbar at the top of the notebook viewer, then selecting the type (code or markdown, which is text) from the dropdown menu.\n",
    "\n",
    "### What your report should cover\n",
    "\n",
    "Some suggested sections for the report are included in the <b>stub</b> notebook below.\n",
    "\n",
    "### What makes a good report\n",
    "\n",
    "It should contain information useful to the CEO, and this should not be swamped by irrelevant information (ie, do not report every possible correlation and produce every possible graph, but focus on those you think are important)\n",
    "\n",
    "The text blocks should be readable by a non statistically trained person, although they should contain key descriptive statistics.\n",
    "\n",
    "The text blocks should be supported by code blocks illustraing how you obtained the descriptive statistics.\n",
    "\n",
    "You should include plots to support key points. The plots should be of an appropriate type and be labelled (eg axis labels and legends) in such a way that the reader can understand them directly, without needing to refer to your code or to the data table.\n",
    "\n",
    "It should include subheadings. Where possible, subheadings summarize the key findings (eg 'older visitors tend to spend longer at the hotel') rather than describing the analysis (ef 'association between age and length of stay')."
   ]
  },
  {
   "cell_type": "markdown",
   "id": "7d2a3173",
   "metadata": {},
   "source": [
    "## Your report [replace with a proper title!]"
   ]
  },
  {
   "cell_type": "markdown",
   "id": "22a8b6c8",
   "metadata": {},
   "source": [
    "### Set up Python libraries\n",
    "\n",
    "As usual, run the code cell below to import the relevant Python libraries"
   ]
  },
  {
   "cell_type": "code",
   "execution_count": 3,
   "id": "cb7116a5",
   "metadata": {},
   "outputs": [],
   "source": [
    "# Set-up Python libraries - you need to run this but you don't need to change it\n",
    "import numpy as np\n",
    "import matplotlib.pyplot as plt\n",
    "import scipy.stats as stats\n",
    "import pandas \n",
    "import seaborn as sns\n",
    "sns.set_theme()"
   ]
  },
  {
   "cell_type": "markdown",
   "id": "9f99be21",
   "metadata": {},
   "source": [
    "## Data Source\n",
    "\n",
    "The report examines a sample of 12,843 hotel guests who attended Clarendon Luxury Hotels over the past 5 years.\n",
    "\n",
    "The variables recorded in the dataset were .........\n"
   ]
  },
  {
   "cell_type": "code",
   "execution_count": 5,
   "id": "c02369d0",
   "metadata": {},
   "outputs": [
    {
     "data": {
      "text/html": [
       "<div>\n",
       "<style scoped>\n",
       "    .dataframe tbody tr th:only-of-type {\n",
       "        vertical-align: middle;\n",
       "    }\n",
       "\n",
       "    .dataframe tbody tr th {\n",
       "        vertical-align: top;\n",
       "    }\n",
       "\n",
       "    .dataframe thead th {\n",
       "        text-align: right;\n",
       "    }\n",
       "</style>\n",
       "<table border=\"1\" class=\"dataframe\">\n",
       "  <thead>\n",
       "    <tr style=\"text-align: right;\">\n",
       "      <th></th>\n",
       "      <th>CHARGES</th>\n",
       "      <th>LOS</th>\n",
       "      <th>AGE</th>\n",
       "      <th>SEX</th>\n",
       "      <th>DISCOUNTCODE</th>\n",
       "      <th>SPAVOUCHER</th>\n",
       "    </tr>\n",
       "  </thead>\n",
       "  <tbody>\n",
       "    <tr>\n",
       "      <th>0</th>\n",
       "      <td>4752.00</td>\n",
       "      <td>10</td>\n",
       "      <td>79.0</td>\n",
       "      <td>F</td>\n",
       "      <td>122.0</td>\n",
       "      <td>0.0</td>\n",
       "    </tr>\n",
       "    <tr>\n",
       "      <th>1</th>\n",
       "      <td>3941.00</td>\n",
       "      <td>6</td>\n",
       "      <td>34.0</td>\n",
       "      <td>F</td>\n",
       "      <td>122.0</td>\n",
       "      <td>0.0</td>\n",
       "    </tr>\n",
       "    <tr>\n",
       "      <th>2</th>\n",
       "      <td>3657.00</td>\n",
       "      <td>5</td>\n",
       "      <td>76.0</td>\n",
       "      <td>F</td>\n",
       "      <td>122.0</td>\n",
       "      <td>0.0</td>\n",
       "    </tr>\n",
       "    <tr>\n",
       "      <th>3</th>\n",
       "      <td>1481.00</td>\n",
       "      <td>2</td>\n",
       "      <td>80.0</td>\n",
       "      <td>F</td>\n",
       "      <td>122.0</td>\n",
       "      <td>0.0</td>\n",
       "    </tr>\n",
       "    <tr>\n",
       "      <th>4</th>\n",
       "      <td>1681.00</td>\n",
       "      <td>1</td>\n",
       "      <td>55.0</td>\n",
       "      <td>M</td>\n",
       "      <td>122.0</td>\n",
       "      <td>0.0</td>\n",
       "    </tr>\n",
       "    <tr>\n",
       "      <th>...</th>\n",
       "      <td>...</td>\n",
       "      <td>...</td>\n",
       "      <td>...</td>\n",
       "      <td>...</td>\n",
       "      <td>...</td>\n",
       "      <td>...</td>\n",
       "    </tr>\n",
       "    <tr>\n",
       "      <th>12839</th>\n",
       "      <td>22603.57</td>\n",
       "      <td>14</td>\n",
       "      <td>79.0</td>\n",
       "      <td>F</td>\n",
       "      <td>121.0</td>\n",
       "      <td>0.0</td>\n",
       "    </tr>\n",
       "    <tr>\n",
       "      <th>12840</th>\n",
       "      <td>NaN</td>\n",
       "      <td>7</td>\n",
       "      <td>91.0</td>\n",
       "      <td>F</td>\n",
       "      <td>121.0</td>\n",
       "      <td>0.0</td>\n",
       "    </tr>\n",
       "    <tr>\n",
       "      <th>12841</th>\n",
       "      <td>14359.14</td>\n",
       "      <td>9</td>\n",
       "      <td>79.0</td>\n",
       "      <td>F</td>\n",
       "      <td>121.0</td>\n",
       "      <td>0.0</td>\n",
       "    </tr>\n",
       "    <tr>\n",
       "      <th>12842</th>\n",
       "      <td>12986.00</td>\n",
       "      <td>5</td>\n",
       "      <td>70.0</td>\n",
       "      <td>M</td>\n",
       "      <td>121.0</td>\n",
       "      <td>0.0</td>\n",
       "    </tr>\n",
       "    <tr>\n",
       "      <th>12843</th>\n",
       "      <td>NaN</td>\n",
       "      <td>1</td>\n",
       "      <td>81.0</td>\n",
       "      <td>M</td>\n",
       "      <td>123.0</td>\n",
       "      <td>1.0</td>\n",
       "    </tr>\n",
       "  </tbody>\n",
       "</table>\n",
       "<p>12844 rows × 6 columns</p>\n",
       "</div>"
      ],
      "text/plain": [
       "        CHARGES  LOS   AGE SEX  DISCOUNTCODE  SPAVOUCHER\n",
       "0       4752.00   10  79.0   F         122.0         0.0\n",
       "1       3941.00    6  34.0   F         122.0         0.0\n",
       "2       3657.00    5  76.0   F         122.0         0.0\n",
       "3       1481.00    2  80.0   F         122.0         0.0\n",
       "4       1681.00    1  55.0   M         122.0         0.0\n",
       "...         ...  ...   ...  ..           ...         ...\n",
       "12839  22603.57   14  79.0   F         121.0         0.0\n",
       "12840       NaN    7  91.0   F         121.0         0.0\n",
       "12841  14359.14    9  79.0   F         121.0         0.0\n",
       "12842  12986.00    5  70.0   M         121.0         0.0\n",
       "12843       NaN    1  81.0   M         123.0         1.0\n",
       "\n",
       "[12844 rows x 6 columns]"
      ]
     },
     "metadata": {},
     "output_type": "display_data"
    }
   ],
   "source": [
    "### Import and inspect data\n",
    "hotelStays=pandas.read_csv('/Users/lhunt/Desktop/hotelStays.csv')\n",
    "display(hotelStays)"
   ]
  },
  {
   "cell_type": "markdown",
   "id": "bdcb688c",
   "metadata": {},
   "source": [
    "### Data Cleaning\n",
    "\n",
    "Explain how many outlier/bad/missing values you removed and what your criteria for removal were."
   ]
  },
  {
   "cell_type": "markdown",
   "id": "e066d481",
   "metadata": {},
   "source": [
    "### Data Cleaning\n",
    "\n",
    "Explain how many outlier/bad/missing values you removed and what your criteria for removal were."
   ]
  },
  {
   "cell_type": "markdown",
   "id": "f82a3b78",
   "metadata": {},
   "source": [
    "### Sample Overview\n",
    "\n",
    "Report key demographics of the sample (proportion male/female; proportion that used a voucher for the hotel spa in each case)."
   ]
  },
  {
   "cell_type": "markdown",
   "id": "773c9e84",
   "metadata": {},
   "source": [
    "### Distribution of charges\n",
    "\n",
    "You should summarize the distribution of costs, disaggregated (broken down) by any categorical variables that, in your opinion, play an important role in determining cost."
   ]
  },
  {
   "cell_type": "markdown",
   "id": "62d99abd",
   "metadata": {},
   "source": [
    "### Factors affecting charges\n",
    "\n",
    "Explain, with supporting graphs and descriptive statistics, what are the key factor(s) affecting the cost of the hotel stay."
   ]
  },
  {
   "cell_type": "markdown",
   "id": "284570da",
   "metadata": {},
   "source": [
    "### Factors affecting length of stay\n",
    "\n",
    "You have probably established that length of stay is a key factor determining cost.\n",
    "\n",
    "In this section, present the distribution of length of stay, disaggregated by any categorical variables that, in your opinion, play an important role in determining lenth of stay.\n",
    "\n",
    "Also present any important correlations between length of stay and other numerical variables."
   ]
  },
  {
   "cell_type": "markdown",
   "id": "bb09f6e9",
   "metadata": {},
   "source": [
    "### Your conclusions\n",
    "\n",
    "Summarize the key points from your report, perhaps using a few bullet points."
   ]
  },
  {
   "cell_type": "code",
   "execution_count": null,
   "id": "3e0fcd03",
   "metadata": {},
   "outputs": [],
   "source": []
  }
 ],
 "metadata": {
  "kernelspec": {
   "display_name": "Python 3 (Spyder)",
   "language": "python3",
   "name": "python3"
  },
  "language_info": {
   "codemirror_mode": {
    "name": "ipython",
    "version": 3
   },
   "file_extension": ".py",
   "mimetype": "text/x-python",
   "name": "python",
   "nbconvert_exporter": "python",
   "pygments_lexer": "ipython3",
   "version": "3.9.12"
  }
 },
 "nbformat": 4,
 "nbformat_minor": 5
}
